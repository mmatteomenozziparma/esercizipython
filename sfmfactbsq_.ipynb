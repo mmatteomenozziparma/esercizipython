{
  "nbformat": 4,
  "nbformat_minor": 0,
  "metadata": {
    "colab": {
      "provenance": [],
      "authorship_tag": "ABX9TyO2A7WzAgr2/eMBGLF1Xgfw",
      "include_colab_link": true
    },
    "kernelspec": {
      "name": "python3",
      "display_name": "Python 3"
    },
    "language_info": {
      "name": "python"
    }
  },
  "cells": [
    {
      "cell_type": "markdown",
      "metadata": {
        "id": "view-in-github",
        "colab_type": "text"
      },
      "source": [
        "<a href=\"https://colab.research.google.com/github/mmatteomenozziparma/esercizipython/blob/main/sfmfactbsq_.ipynb\" target=\"_parent\"><img src=\"https://colab.research.google.com/assets/colab-badge.svg\" alt=\"Open In Colab\"/></a>"
      ]
    },
    {
      "cell_type": "code",
      "execution_count": null,
      "metadata": {
        "id": "mM41Z85HsxWM"
      },
      "outputs": [],
      "source": [
        "numeri=[]\n",
        "\n",
        "\n",
        "n=int(input(\"Quanti numeri vuoi nell array\"))\n",
        "\n",
        "def popola(n,numeri):\n",
        "  for i in range (n):\n",
        "    numero=int (input('immetti un numero'))\n",
        "    numeri.append(numero)\n",
        "  return numeri\n",
        "\n",
        "\n",
        "def ordinebidir(n,numeri):\n",
        "    popola(n,numeri)\n",
        "    left = 0\n",
        "    right = n - 1\n",
        "    \n",
        "    while left < right:\n",
        "        # Scansione dal sinistro verso destra\n",
        "        for i in range(left, right):\n",
        "            if numeri[i] > numeri[i+1]:\n",
        "                numeri[i], numeri[i+1] = numeri[i+1], numeri[i]\n",
        "        \n",
        "        right -= 1  # Riduci il limite destro dopo ogni scansione\n",
        "        \n",
        "        # Scansione dal destro verso sinistra\n",
        "        for i in range(right, left, -1):#equiale al downto in pascal,comìn questo ciclo si scanziona dalla parte finale dellarray fino al numero dato \n",
        "            if numeri[i] < numeri[i-1]:\n",
        "               numeri[i], numeri[i-1] = numeri[i-1], numeri[i]\n",
        "        \n",
        "        left += 1\n",
        "ordinebidir(n,numeri)\n",
        "numeri\n",
        "\n",
        "        \n",
        "\n",
        "\n",
        "\n",
        "\n"
      ]
    },
    {
      "cell_type": "code",
      "source": [
        "n=int(input(\"immetti un numero:\" ))\n",
        "def fattoriale(n):\n",
        "  for i in range(0,n):\n",
        "   n*=fattoriale(n-1)if n>1 else 1\n",
        "   return n \n",
        "fattoriale (n)"
      ],
      "metadata": {
        "colab": {
          "base_uri": "https://localhost:8080/"
        },
        "id": "zGDX0CatiVL0",
        "outputId": "a42a869b-9373-4861-f996-69aa35f13d3e"
      },
      "execution_count": null,
      "outputs": [
        {
          "name": "stdout",
          "output_type": "stream",
          "text": [
            "immetti un numero:4\n"
          ]
        },
        {
          "output_type": "execute_result",
          "data": {
            "text/plain": [
              "24"
            ]
          },
          "metadata": {},
          "execution_count": 30
        }
      ]
    },
    {
      "cell_type": "code",
      "source": [
        "\n",
        "numbers=[]\n",
        "\n",
        "\n",
        "n=int(input(\"Quanti numeri uoi nell array\"))\n",
        "max=0 \n",
        "min=0\n",
        "def popola(n,numbers):\n",
        "  for i in range (n):\n",
        "    numero=int (input('immetti un numero'))\n",
        "    numbers.append(numero)\n",
        "  return numbers\n",
        "popola(n,numbers)\n",
        "for i in range(len(numbers)):\n",
        "    if (numbers[i]>max):\n",
        "        max=numbers[i]\n",
        "    if numbers[i]<min:\n",
        "        min=numbers[i]\n",
        "print (min)\n",
        "print (max) "
      ],
      "metadata": {
        "id": "HgZ-NKRbF4KH",
        "colab": {
          "base_uri": "https://localhost:8080/"
        },
        "outputId": "da835d36-3b1d-4f30-9045-b08ad57f39fe"
      },
      "execution_count": 7,
      "outputs": [
        {
          "output_type": "stream",
          "name": "stdout",
          "text": [
            "Quanti numeri uoi nell array5\n",
            "immetti un numero-4\n",
            "immetti un numero34\n",
            "immetti un numero-6\n",
            "immetti un numero-5\n",
            "immetti un numero6\n",
            "-6\n",
            "34\n"
          ]
        }
      ]
    },
    {
      "cell_type": "code",
      "source": [
        "def bisection(n, epsilon):\n",
        "    if n < 0:\n",
        "        raise ValueError(\"Square root is not defined for negative numbers.\")\n",
        "    \n",
        "    if n == 0:\n",
        "        return 0\n",
        "    \n",
        "    min= 0\n",
        "    max = n  # mettiamo il bond massiumo al numero\n",
        "    \n",
        "    while max - min > epsilon:  #condizione di interazione per controllare se il delta è maggiore dell errore \n",
        "        mid = (min + max) / 2\n",
        "        square = mid * mid\n",
        "        \n",
        "        if square == n:#nei casi di radici interi \n",
        "            return mid\n",
        "        \n",
        "        if square < n:\n",
        "            min = mid\n",
        "        else:\n",
        "            max = mid\n",
        "    \n",
        "    return (min + max) / 2\n",
        "number = int(input('inserisci il numero di cui uoi trovare la radice quadrata'))\n",
        "precision = 0.0001\n",
        "result = bisection(number, precision)\n",
        "print(f\"La radice quadrata {number} è apprposimata a {result:.5f}\")\n",
        "\n",
        "\n",
        "\n"
      ],
      "metadata": {
        "id": "ddSw_fa-J8fu",
        "colab": {
          "base_uri": "https://localhost:8080/"
        },
        "outputId": "af0d820c-102d-44e1-e04c-a3d8641412a4"
      },
      "execution_count": 10,
      "outputs": [
        {
          "output_type": "stream",
          "name": "stdout",
          "text": [
            "inserisci il numero di cui uoi trovare la radice quadrata67\n",
            "The square root of 67 is approximately 8.1853\n"
          ]
        }
      ]
    }
  ]
}